{
 "cells": [
  {
   "cell_type": "code",
   "execution_count": 1,
   "metadata": {},
   "outputs": [],
   "source": [
    "import numpy as np"
   ]
  },
  {
   "cell_type": "markdown",
   "metadata": {},
   "source": [
    "# Numpy is used for fast vector operations"
   ]
  },
  {
   "cell_type": "code",
   "execution_count": 2,
   "metadata": {},
   "outputs": [],
   "source": [
    "normal_list = [1, 2, 3]\n",
    "numpy_array = np.array(normal_list)"
   ]
  },
  {
   "cell_type": "markdown",
   "metadata": {},
   "source": [
    "# Let's try to compare both for large arrays!"
   ]
  },
  {
   "cell_type": "code",
   "execution_count": 35,
   "metadata": {},
   "outputs": [],
   "source": [
    "normal_list = lisvt(range(1,10000000))\n",
    "numpy_array = np.array(normal_list)\n",
    "\n",
    "# print(\"Normal array: {} \\nType: {} \\n\\n -------- \\n\\nNumpy array: {} \\nType: {}\".format(normal_list, type(normal_list), numpy_array, type(numpy_array)))"
   ]
  },
  {
   "cell_type": "markdown",
   "metadata": {},
   "source": [
    "# How to subtract 1 from each element?"
   ]
  },
  {
   "cell_type": "code",
   "execution_count": 36,
   "metadata": {},
   "outputs": [
    {
     "name": "stdout",
     "output_type": "stream",
     "text": [
      "List compreshenison method: \n",
      "CPU times: user 14.6 s, sys: 15.9 s, total: 30.5 s\n",
      "Wall time: 8min 32s\n"
     ]
    }
   ],
   "source": [
    "%%time\n",
    "\n",
    "# List compreshension method\n",
    "print(\"List compreshenison method: \")\n",
    "a = [x - 1 for x in normal_list] "
   ]
  },
  {
   "cell_type": "code",
   "execution_count": 37,
   "metadata": {},
   "outputs": [
    {
     "name": "stdout",
     "output_type": "stream",
     "text": [
      "Loop method: \n",
      "CPU times: user 21 s, sys: 11 s, total: 32 s\n",
      "Wall time: 8min 31s\n"
     ]
    }
   ],
   "source": [
    "%%time\n",
    "\n",
    "# Loop method\n",
    "print(\"Loop method: \")\n",
    "\n",
    "a = []\n",
    "for x in normal_list:\n",
    "    a.append(x-1)"
   ]
  },
  {
   "cell_type": "code",
   "execution_count": 38,
   "metadata": {},
   "outputs": [
    {
     "name": "stdout",
     "output_type": "stream",
     "text": [
      "Numpy method: \n",
      "CPU times: user 1.37 s, sys: 3.13 s, total: 4.49 s\n",
      "Wall time: 1min 47s\n"
     ]
    }
   ],
   "source": [
    "%%time\n",
    "\n",
    "# Numpy\n",
    "print(\"Numpy method: \")\n",
    "\n",
    "a = numpy_array - 1"
   ]
  },
  {
   "cell_type": "markdown",
   "metadata": {},
   "source": [
    "# Numpy is fast and easy!"
   ]
  },
  {
   "cell_type": "code",
   "execution_count": 12,
   "metadata": {},
   "outputs": [],
   "source": [
    "a = np.array([4, 5, 7, 89, 343, 767, 23])"
   ]
  },
  {
   "cell_type": "code",
   "execution_count": 14,
   "metadata": {},
   "outputs": [
    {
     "name": "stdout",
     "output_type": "stream",
     "text": [
      "numpy array a: [  4   5   7  89 343 767  23]\n",
      "type of a: <class 'numpy.ndarray'>\n",
      "\n",
      "What is the 4th element? : 89\n",
      "What is the first element? : 4\n",
      "What is the last element? : 23\n",
      "What is the second last element? : 767\n"
     ]
    }
   ],
   "source": [
    "print(\"numpy array a: {}\\ntype of a: {}\\n\".format(a, type(a)))\n",
    "\n",
    "print(\"What is the 4th element? : {}\".format(a[3]))\n",
    "print(\"What is the first element? : {}\".format(a[0]))\n",
    "print(\"What is the last element? : {}\".format(a[-1]))\n",
    "print(\"What is the second last element? : {}\".format(a[-2]))"
   ]
  },
  {
   "cell_type": "markdown",
   "metadata": {},
   "source": [
    "# Finding the shape of the array"
   ]
  },
  {
   "cell_type": "code",
   "execution_count": 45,
   "metadata": {},
   "outputs": [
    {
     "name": "stdout",
     "output_type": "stream",
     "text": [
      "array a:\n",
      " [[ 3  4]\n",
      " [ 5  7]\n",
      " [ 9 77]]\n",
      "array shape: (3, 2)\n",
      "Rows: 3\n",
      "Columns: 2\n"
     ]
    }
   ],
   "source": [
    "a = np.array([[3, 4],\n",
    "              [5, 7],\n",
    "              [9, 77]])\n",
    "\n",
    "print(\"array a:\\n {}\\narray shape: {}\".format(a,\n",
    "                                              a.shape))\n",
    "\n",
    "rows, cols = a.shape\n",
    "\n",
    "print(\"Rows: {}\\nColumns: {}\".format(rows, cols))"
   ]
  },
  {
   "cell_type": "markdown",
   "metadata": {},
   "source": [
    "# Handy numpy functions"
   ]
  },
  {
   "cell_type": "code",
   "execution_count": 5,
   "metadata": {},
   "outputs": [
    {
     "data": {
      "text/plain": [
       "array([[0., 0., 0., 0.],\n",
       "       [0., 0., 0., 0.],\n",
       "       [0., 0., 0., 0.],\n",
       "       [0., 0., 0., 0.]])"
      ]
     },
     "execution_count": 5,
     "metadata": {},
     "output_type": "execute_result"
    }
   ],
   "source": [
    "a = np.zeros((4,4))\n",
    "a"
   ]
  },
  {
   "cell_type": "code",
   "execution_count": 9,
   "metadata": {},
   "outputs": [
    {
     "data": {
      "text/plain": [
       "array([[1., 1., 1.],\n",
       "       [1., 1., 1.]])"
      ]
     },
     "execution_count": 9,
     "metadata": {},
     "output_type": "execute_result"
    }
   ],
   "source": [
    "a = np.ones((2, 3))\n",
    "a"
   ]
  },
  {
   "cell_type": "code",
   "execution_count": 10,
   "metadata": {},
   "outputs": [
    {
     "data": {
      "text/plain": [
       "array([[1., 0., 0., 0., 0.],\n",
       "       [0., 1., 0., 0., 0.],\n",
       "       [0., 0., 1., 0., 0.],\n",
       "       [0., 0., 0., 1., 0.],\n",
       "       [0., 0., 0., 0., 1.]])"
      ]
     },
     "execution_count": 10,
     "metadata": {},
     "output_type": "execute_result"
    }
   ],
   "source": [
    "a = np.eye(5)\n",
    "a"
   ]
  },
  {
   "cell_type": "code",
   "execution_count": 11,
   "metadata": {},
   "outputs": [
    {
     "data": {
      "text/plain": [
       "array([[555, 555, 555],\n",
       "       [555, 555, 555],\n",
       "       [555, 555, 555]])"
      ]
     },
     "execution_count": 11,
     "metadata": {},
     "output_type": "execute_result"
    }
   ],
   "source": [
    "a = np.full((3,3), 555)\n",
    "a"
   ]
  },
  {
   "cell_type": "code",
   "execution_count": 17,
   "metadata": {},
   "outputs": [
    {
     "data": {
      "text/plain": [
       "array([[22,  5, 20, 26, 23, 25,  6,  3],\n",
       "       [12,  4, 20, 10, 28, 18, 21, 13],\n",
       "       [19,  4,  1,  5, 11, 29,  9, 29],\n",
       "       [ 3, 17, 13, 20, 25, 15, 19, 26]])"
      ]
     },
     "execution_count": 17,
     "metadata": {},
     "output_type": "execute_result"
    }
   ],
   "source": [
    "a = np.random.randint(1, 30, size=(4, 8))\n",
    "a"
   ]
  },
  {
   "cell_type": "code",
   "execution_count": 18,
   "metadata": {},
   "outputs": [
    {
     "data": {
      "text/plain": [
       "array([[0.0735311 , 0.54719671, 0.40940399, 0.71902975, 0.5539599 ],\n",
       "       [0.87589601, 0.22286364, 0.28840412, 0.6714646 , 0.49373039],\n",
       "       [0.6887555 , 0.5340898 , 0.68114597, 0.95924657, 0.3645496 ],\n",
       "       [0.30846282, 0.85385316, 0.73063915, 0.14620541, 0.45924258],\n",
       "       [0.28967141, 0.09916125, 0.39629238, 0.33648872, 0.04158296]])"
      ]
     },
     "execution_count": 18,
     "metadata": {},
     "output_type": "execute_result"
    }
   ],
   "source": [
    "a = np.random.random((5,5))\n",
    "a"
   ]
  },
  {
   "cell_type": "markdown",
   "metadata": {},
   "source": [
    "# Array Indexing"
   ]
  },
  {
   "cell_type": "code",
   "execution_count": 19,
   "metadata": {},
   "outputs": [
    {
     "data": {
      "text/plain": [
       "array([[46, 69, 44, 45, 31, 90, 33,  7],\n",
       "       [65, 37, 39, 55, 98, 54, 46, 81],\n",
       "       [89, 25, 63, 48, 59, 90, 91, 83],\n",
       "       [36, 67, 40, 63, 54, 21, 71, 74],\n",
       "       [86, 90, 21, 68, 45, 95, 85, 36],\n",
       "       [61, 64, 29,  4, 65, 15, 88, 30],\n",
       "       [12, 20,  7, 72, 71, 12, 75,  6],\n",
       "       [48, 38, 12, 78, 32,  4,  7, 63]])"
      ]
     },
     "execution_count": 19,
     "metadata": {},
     "output_type": "execute_result"
    }
   ],
   "source": [
    "a = np.random.randint(4, 99, size=(8,8))\n",
    "a"
   ]
  },
  {
   "cell_type": "code",
   "execution_count": 28,
   "metadata": {},
   "outputs": [
    {
     "name": "stdout",
     "output_type": "stream",
     "text": [
      "First row: [46 69 44 45 31 90 33  7]\n",
      "Second row: [65 37 39 55 98 54 46 81]\n",
      "Last row: [48 38 12 78 32  4  7 63]\n",
      "Second Last row: [12 20  7 72 71 12 75  6]\n"
     ]
    }
   ],
   "source": [
    "print(\"First row: {}\".format(a[0]))\n",
    "print(\"Second row: {}\".format(a[1]))\n",
    "\n",
    "print(\"Last row: {}\".format(a[-1]))\n",
    "print(\"Second Last row: {}\".format(a[-2]))"
   ]
  },
  {
   "cell_type": "code",
   "execution_count": 33,
   "metadata": {},
   "outputs": [
    {
     "name": "stdout",
     "output_type": "stream",
     "text": [
      "First 3 rows:\n",
      " [[46 69 44 45 31 90 33  7]\n",
      " [65 37 39 55 98 54 46 81]\n",
      " [89 25 63 48 59 90 91 83]]\n",
      "First 3 rows:\n",
      " [[46 69 44 45 31 90 33  7]\n",
      " [65 37 39 55 98 54 46 81]\n",
      " [89 25 63 48 59 90 91 83]]\n"
     ]
    }
   ],
   "source": [
    "print(\"First 3 rows:\\n {}\".format(a[:3]))\n",
    "print(\"First 3 rows:\\n {}\".format(a[:3, :]))"
   ]
  },
  {
   "cell_type": "code",
   "execution_count": 32,
   "metadata": {},
   "outputs": [
    {
     "name": "stdout",
     "output_type": "stream",
     "text": [
      "First 3 columns:\n",
      " [[46 69 44]\n",
      " [65 37 39]\n",
      " [89 25 63]\n",
      " [36 67 40]\n",
      " [86 90 21]\n",
      " [61 64 29]\n",
      " [12 20  7]\n",
      " [48 38 12]]\n"
     ]
    }
   ],
   "source": [
    "print(\"First 3 columns:\\n {}\".format(a[:, :3]))"
   ]
  },
  {
   "cell_type": "code",
   "execution_count": 24,
   "metadata": {},
   "outputs": [
    {
     "name": "stdout",
     "output_type": "stream",
     "text": [
      "First 3 rows and 2 columns:\n",
      " [[46 69]\n",
      " [65 37]\n",
      " [89 25]]\n"
     ]
    }
   ],
   "source": [
    "print(\"First 3 rows and 2 columns:\\n {}\".format(a[:3,:2]))"
   ]
  },
  {
   "cell_type": "code",
   "execution_count": 36,
   "metadata": {},
   "outputs": [
    {
     "name": "stdout",
     "output_type": "stream",
     "text": [
      "Last 3 rows and last 2 columns:\n",
      " [[88 30]\n",
      " [75  6]\n",
      " [ 7 63]]\n"
     ]
    }
   ],
   "source": [
    "print(\"Last 3 rows and last 2 columns:\\n {}\".format(a[-3:,-2:]))"
   ]
  },
  {
   "cell_type": "code",
   "execution_count": 35,
   "metadata": {},
   "outputs": [
    {
     "name": "stdout",
     "output_type": "stream",
     "text": [
      "From 2nd row to 4th row and 2nd column to 5th column:\n",
      " [[37 39 55 98 54]\n",
      " [25 63 48 59 90]\n",
      " [67 40 63 54 21]\n",
      " [90 21 68 45 95]]\n"
     ]
    }
   ],
   "source": [
    "print(\"From 2nd row to 4th row and 2nd column to 5th column:\\n {}\".format(a[1:5,1:6]))"
   ]
  },
  {
   "cell_type": "markdown",
   "metadata": {},
   "source": [
    "## Easy to remember\n",
    "\n",
    "- [row_start:row_end, col_start:col_end]\n",
    "- \"-\" sign means from end\n",
    "- keeping it empty (no number) means till the end\n",
    "- upper boundary number is one extra than required"
   ]
  },
  {
   "cell_type": "markdown",
   "metadata": {},
   "source": [
    "### Boolean: Get all elements greater than x"
   ]
  },
  {
   "cell_type": "code",
   "execution_count": 40,
   "metadata": {},
   "outputs": [
    {
     "data": {
      "text/plain": [
       "array([[False,  True, False, False, False,  True, False, False],\n",
       "       [ True, False, False,  True,  True,  True, False,  True],\n",
       "       [ True, False,  True, False,  True,  True,  True,  True],\n",
       "       [False,  True, False,  True,  True, False,  True,  True],\n",
       "       [ True,  True, False,  True, False,  True,  True, False],\n",
       "       [ True,  True, False, False,  True, False,  True, False],\n",
       "       [False, False, False,  True,  True, False,  True, False],\n",
       "       [False, False, False,  True, False, False, False,  True]])"
      ]
     },
     "execution_count": 40,
     "metadata": {},
     "output_type": "execute_result"
    }
   ],
   "source": [
    "x = 50\n",
    "\n",
    "b = a > x\n",
    "b"
   ]
  },
  {
   "cell_type": "code",
   "execution_count": 41,
   "metadata": {},
   "outputs": [
    {
     "data": {
      "text/plain": [
       "array([69, 90, 65, 55, 98, 54, 81, 89, 63, 59, 90, 91, 83, 67, 63, 54, 71,\n",
       "       74, 86, 90, 68, 95, 85, 61, 64, 65, 88, 72, 71, 75, 78, 63])"
      ]
     },
     "execution_count": 41,
     "metadata": {},
     "output_type": "execute_result"
    }
   ],
   "source": [
    "a[b]"
   ]
  },
  {
   "cell_type": "code",
   "execution_count": 42,
   "metadata": {},
   "outputs": [
    {
     "data": {
      "text/plain": [
       "array([69, 90, 65, 55, 98, 54, 81, 89, 63, 59, 90, 91, 83, 67, 63, 54, 71,\n",
       "       74, 86, 90, 68, 95, 85, 61, 64, 65, 88, 72, 71, 75, 78, 63])"
      ]
     },
     "execution_count": 42,
     "metadata": {},
     "output_type": "execute_result"
    }
   ],
   "source": [
    "a[a>x]"
   ]
  },
  {
   "cell_type": "code",
   "execution_count": 45,
   "metadata": {},
   "outputs": [
    {
     "data": {
      "text/plain": [
       "array([[False, False, False, False, False,  True, False, False],\n",
       "       [False, False, False, False, False, False, False, False],\n",
       "       [False, False, False, False, False,  True, False, False],\n",
       "       [False, False, False, False, False, False, False, False],\n",
       "       [False,  True, False, False, False, False, False, False],\n",
       "       [False, False, False, False, False, False, False, False],\n",
       "       [False, False, False, False, False, False, False, False],\n",
       "       [False, False, False, False, False, False, False, False]])"
      ]
     },
     "execution_count": 45,
     "metadata": {},
     "output_type": "execute_result"
    }
   ],
   "source": [
    "a==90"
   ]
  },
  {
   "cell_type": "code",
   "execution_count": 47,
   "metadata": {},
   "outputs": [
    {
     "data": {
      "text/plain": [
       "array([46, 44, 90, 98, 54, 46, 48, 90, 36, 40, 54, 74, 86, 90, 68, 36, 64,\n",
       "        4, 88, 30, 12, 20, 72, 12,  6, 48, 38, 12, 78, 32,  4])"
      ]
     },
     "execution_count": 47,
     "metadata": {},
     "output_type": "execute_result"
    }
   ],
   "source": [
    "a[a%2==0]"
   ]
  },
  {
   "cell_type": "code",
   "execution_count": null,
   "metadata": {},
   "outputs": [],
   "source": []
  }
 ],
 "metadata": {
  "kernelspec": {
   "display_name": "Python 3.7.3 64-bit ('cv-nd': conda)",
   "language": "python",
   "name": "python37364bitcvndcondab14a51f27e0e4dd69b303ff47403d3bd"
  },
  "language_info": {
   "codemirror_mode": {
    "name": "ipython",
    "version": 3
   },
   "file_extension": ".py",
   "mimetype": "text/x-python",
   "name": "python",
   "nbconvert_exporter": "python",
   "pygments_lexer": "ipython3",
   "version": "3.7.3"
  }
 },
 "nbformat": 4,
 "nbformat_minor": 2
}
